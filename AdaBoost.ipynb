{
 "cells": [
  {
   "cell_type": "code",
   "execution_count": 25,
   "metadata": {
    "collapsed": false
   },
   "outputs": [],
   "source": [
    "class Sample:\n",
    "    \"Represenation of data samples\"\n",
    "    def __init__(self, xclass, values, identity, attributes = None):\n",
    "        self.xclass = xclass\n",
    "        if attributes == None:\n",
    "            self.attribute = values\n",
    "        else:\n",
    "            self.attribute = dict(zip(attributes, values))\n",
    "        self.identity = identity\n",
    "        \n",
    "    def getClass(self):\n",
    "        return self.xclass\n",
    "    \n",
    "    def getAttributes(self):\n",
    "        return self.attribute\n",
    "    \n",
    "    def getNbrAttributes(self):\n",
    "        return len(self.attribute)\n",
    "    \n",
    "    def getAttributeValue(self,attribute):\n",
    "        return self.attribute[attribute]\n",
    "    \n",
    "    def getIdentity(self):\n",
    "        return self.identity"
   ]
  },
  {
   "cell_type": "code",
   "execution_count": 66,
   "metadata": {
    "collapsed": false
   },
   "outputs": [],
   "source": [
    "import numpy as np\n",
    "import pandas as pd\n",
    "\n",
    "def chooseData(data):\n",
    "    prefix = 'datasets/'\n",
    "    if data == \"glass\":\n",
    "        data =np.genfromtxt(prefix + 'glass.data',dtype=None,delimiter=\",\")\n",
    "        return [Sample(x[-1],[x[i] for i in range(1,len(x)-1)],x[0]) for x in data]\n",
    "    \n",
    "    elif data == \"ecoli\":\n",
    "        data = np.genfromtxt(prefix + 'ecoli.data',dtype=None)\n",
    "        return [Sample(x[-1],[x[i] for i in range(1,len(x)-1)],x[0]) for x in data]\n",
    "    \n",
    "    elif data == \"diabetes\":\n",
    "        data = np.genfromtxt(prefix + 'pima-indians-diabetes.data',dtype=None,delimiter=\",\")\n",
    "        return [Sample(data[x][-1],[data[x][i] for i in range(len(data[x])-1)],x) for x in range(len(data))]\n",
    "    \n",
    "    elif data == \"sonar\":\n",
    "        data = np.genfromtxt(prefix + 'sonar.all-data',dtype=None,delimiter=\",\")\n",
    "        return [Sample(data[x][-1],[data[x][i] for i in range(len(data[x])-1)],x) for x in range(len(data))]\n",
    "    \n",
    "    elif data == \"vowel\":\n",
    "        data = np.genfromtxt(prefix + 'vowel-context.data',dtype=None)\n",
    "        return [Sample(data[x][-1],[data[x][i] for i in range(len(data[x])-1)],x) for x in range(len(data))]\n",
    "    \n",
    "    elif data == \"ionosphere\":\n",
    "        data = np.genfromtxt(prefix + 'ionosphere.data',dtype=None, delimiter=',')\n",
    "        return [Sample(data[x][-1],[data[x][i] for i in range(len(data[x])-1)],x) for x in range(len(data))]\n",
    "    \n",
    "    elif data == \"vehicle\":\n",
    "        data = np.genfromtxt(prefix + 'vehicle.data',dtype=None, delimiter=',')\n",
    "        return [Sample(data[x][-1],[data[x][i] for i in range(len(data[x])-1)],x) for x in range(len(data))]\n",
    "    \n",
    "    elif data == \"german\":\n",
    "        data = np.genfromtxt(prefix + 'german.data-numeric',dtype=None)\n",
    "        return [Sample(data[x][-1],[data[x][i] for i in range(len(data[x])-1)],x) for x in range(len(data))]\n",
    "    \n",
    "    elif data == \"image\":\n",
    "        data = np.genfromtxt(prefix + 'segment.dat',dtype=None)\n",
    "        return [Sample(data[x][-1],[data[x][i] for i in range(len(data[x])-1)],x) for x in range(len(data))]\n",
    "    \n",
    "    elif data == \"cancer\":\n",
    "        data = np.genfromtxt(prefix + 'breast-cancer-wisconsin.data',delimiter=\",\",dtype=int)\n",
    "        return [Sample(x[-1],[x[i] for i in range(1,len(x)-1)],x[0]) for x in data]\n",
    "    \n",
    "    elif data == \"votes\":\n",
    "        data = np.genfromtxt(prefix + \"house-votes-84.data\",dtype=str,delimiter=',')\n",
    "        #data = [list(x) for x in data if not any([y == '?' for y in x])]\n",
    "        data = [[int(y == 'y' or y == 'democrat') - int(y == '?') for y in x] for x in data] # to numerical values\n",
    "        dataIndex = np.where(np.matrix(data)[:,-1] > -1)[0]\n",
    "        data = [data[idx] for idx in list(dataIndex)]\n",
    "        return [Sample(data[x][-1],[data[x][i] for i in range(len(data[x])-1)],x) for x in range(len(data))]\n",
    "    \n",
    "    elif data == \"liver\":\n",
    "        data = np.genfromtxt(prefix + \"bupa.data\",dtype=None,delimiter=',')\n",
    "        return [Sample(data[x][-1],[data[x][i] for i in range(len(data[x])-1)],x) for x in range(len(data))]"
   ]
  },
  {
   "cell_type": "code",
   "execution_count": 112,
   "metadata": {
    "collapsed": false
   },
   "outputs": [
    {
     "name": "stdout",
     "output_type": "stream",
     "text": [
      "(768,)\n",
      "number of Features 8\n",
      "Averaged Error: 0.188311688312\n"
     ]
    }
   ],
   "source": [
    "from sklearn.ensemble import AdaBoostClassifier\n",
    "\n",
    "S = chooseData('diabetes')\n",
    "print(np.shape(S))\n",
    "print('number of Features', len(S[0].attribute))\n",
    "\n",
    "culError = 0\n",
    "Nruns = 100\n",
    "AdaBoost = AdaBoostClassifier(n_estimators = 50)\n",
    "for i in range(Nruns):\n",
    "    N = len(S)\n",
    "    np.random.shuffle(S)\n",
    "    train, test = S[:int(0.9*N)], S[int(0.9*N):]\n",
    "\n",
    "    Xtrain = [o.attribute for o in train]\n",
    "    Ytrain = [o.xclass for o in train]\n",
    "    \n",
    "    #print('number of Datapoints',len(Xtrain))\n",
    "    #print('number of Features', len(Xtrain[0]))\n",
    "    \n",
    "    AdaBoost.fit(X, Y)\n",
    "\n",
    "    Xtest = [o.attribute for o in test]\n",
    "    Ytest = [o.xclass for o in test]\n",
    "    \n",
    "    #print('number of Datapoints',len(Xtest))\n",
    "    #print('number of Features', len(Xtest[0]))\n",
    "    \n",
    "    culError += 1 - AdaBoost.score(Xtest,Ytest)\n",
    "    \n",
    "print('Averaged Error:', culError / Nruns)\n",
    "    \n",
    "#scores = cross_val_score(clf, diabetes.data, diabetes.target)\n",
    "#scores.mean()"
   ]
  },
  {
   "cell_type": "code",
   "execution_count": null,
   "metadata": {
    "collapsed": true
   },
   "outputs": [],
   "source": []
  },
  {
   "cell_type": "code",
   "execution_count": null,
   "metadata": {
    "collapsed": true
   },
   "outputs": [],
   "source": []
  }
 ],
 "metadata": {
  "kernelspec": {
   "display_name": "Python 3",
   "language": "python",
   "name": "python3"
  },
  "language_info": {
   "codemirror_mode": {
    "name": "ipython",
    "version": 3
   },
   "file_extension": ".py",
   "mimetype": "text/x-python",
   "name": "python",
   "nbconvert_exporter": "python",
   "pygments_lexer": "ipython3",
   "version": "3.5.2"
  }
 },
 "nbformat": 4,
 "nbformat_minor": 2
}
